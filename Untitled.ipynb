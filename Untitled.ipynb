{
 "cells": [
  {
   "cell_type": "code",
   "execution_count": 1,
   "id": "e3dc55f1-59a4-4ec4-b559-8c7e578a16f9",
   "metadata": {},
   "outputs": [
    {
     "name": "stdout",
     "output_type": "stream",
     "text": [
      "使用设备: cuda\n"
     ]
    },
    {
     "name": "stderr",
     "output_type": "stream",
     "text": [
      "Downloading: \"https://download.pytorch.org/models/resnet18-f37072fd.pth\" to C:\\Users\\Lenovo/.cache\\torch\\hub\\checkpoints\\resnet18-f37072fd.pth\n"
     ]
    },
    {
     "data": {
      "application/vnd.jupyter.widget-view+json": {
       "model_id": "04e56300d19044c2bc787b709ee5a701",
       "version_major": 2,
       "version_minor": 0
      },
      "text/plain": [
       "  0%|          | 0.00/44.7M [00:00<?, ?B/s]"
      ]
     },
     "metadata": {},
     "output_type": "display_data"
    },
    {
     "name": "stdout",
     "output_type": "stream",
     "text": [
      "成功加载 10 张训练图像\n",
      "Epoch 1, Loss: 1.8400, Accuracy: 0.0000\n",
      "Epoch 2, Loss: 0.5628, Accuracy: 0.8000\n",
      "Epoch 3, Loss: 0.2316, Accuracy: 0.8000\n",
      "Epoch 4, Loss: 0.1917, Accuracy: 1.0000\n",
      "Epoch 5, Loss: 0.0862, Accuracy: 1.0000\n",
      "Epoch 6, Loss: 0.0284, Accuracy: 1.0000\n",
      "Epoch 7, Loss: 0.0212, Accuracy: 1.0000\n",
      "Epoch 8, Loss: 0.0216, Accuracy: 1.0000\n",
      "Epoch 9, Loss: 0.0191, Accuracy: 1.0000\n",
      "Epoch 10, Loss: 0.0140, Accuracy: 1.0000\n",
      "Epoch 11, Loss: 0.0090, Accuracy: 1.0000\n",
      "Epoch 12, Loss: 0.0054, Accuracy: 1.0000\n",
      "Epoch 13, Loss: 0.0032, Accuracy: 1.0000\n",
      "Epoch 14, Loss: 0.0020, Accuracy: 1.0000\n",
      "Epoch 15, Loss: 0.0013, Accuracy: 1.0000\n",
      "Epoch 16, Loss: 0.0008, Accuracy: 1.0000\n",
      "Epoch 17, Loss: 0.0006, Accuracy: 1.0000\n",
      "Epoch 18, Loss: 0.0005, Accuracy: 1.0000\n",
      "Epoch 19, Loss: 0.0004, Accuracy: 1.0000\n",
      "Epoch 20, Loss: 0.0003, Accuracy: 1.0000\n",
      "模型已保存到 models/finetune_resnet18.pth\n"
     ]
    }
   ],
   "source": [
    "import torch\n",
    "import torch.nn as nn\n",
    "from torchvision import models, transforms\n",
    "from PIL import Image\n",
    "import os\n",
    "\n",
    "# 确保使用GPU（如果可用）\n",
    "device = torch.device(\"cuda\" if torch.cuda.is_available() else \"cpu\")\n",
    "print(f\"使用设备: {device}\")\n",
    "\n",
    "# 预处理\n",
    "transform = transforms.Compose([\n",
    "    transforms.Resize((224, 224)),\n",
    "    transforms.ToTensor(),\n",
    "    transforms.Normalize([0.485, 0.456, 0.406], [0.229, 0.224, 0.225])\n",
    "])\n",
    "\n",
    "# 定义类别数量（根据你的标签调整，这里修正为4类）\n",
    "num_classes = 5  # 因为你的标签中有0和3，至少需要4个类别（0,1,2,3）\n",
    "\n",
    "# 加载预训练模型\n",
    "model = models.resnet18(pretrained=True)\n",
    "# 修改最后一层以适应你的类别数量\n",
    "model.fc = nn.Linear(model.fc.in_features, num_classes)\n",
    "model = model.to(device)  # 将模型移到GPU/CPU\n",
    "\n",
    "# 只训练最后一层\n",
    "for param in model.parameters():\n",
    "    param.requires_grad = False\n",
    "for param in model.fc.parameters():\n",
    "    param.requires_grad = True\n",
    "\n",
    "# 加载图像的函数\n",
    "def load_img(path):\n",
    "    try:\n",
    "        img = Image.open(path).convert('RGB')\n",
    "        return transform(img)\n",
    "    except Exception as e:\n",
    "        print(f\"加载图像 {path} 失败: {e}\")\n",
    "        return None\n",
    "\n",
    "# 训练数据路径（修复了缺少逗号的问题）\n",
    "train_image_paths = [\n",
    "    r\"D:\\aaaaaaaaaaaaaaaaaaaaaa\\manhole_cover\\backend\\static\\1.jpg\", \n",
    "    r\"D:\\aaaaaaaaaaaaaaaaaaaaaa\\manhole_cover\\backend\\static\\10.jpg\",\n",
    "    r\"D:\\aaaaaaaaaaaaaaaaaaaaaa\\manhole_cover\\backend\\static\\100.jpg\",\n",
    "    r\"D:\\aaaaaaaaaaaaaaaaaaaaaa\\manhole_cover\\backend\\static\\1000.jpg\",\n",
    "    r\"D:\\aaaaaaaaaaaaaaaaaaaaaa\\manhole_cover\\backend\\static\\1001.jpg\",\n",
    "    r\"D:\\aaaaaaaaaaaaaaaaaaaaaa\\manhole_cover\\backend\\static\\1002.jpg\",\n",
    "    r\"D:\\aaaaaaaaaaaaaaaaaaaaaa\\manhole_cover\\backend\\static\\1003.jpg\",\n",
    "    r\"D:\\aaaaaaaaaaaaaaaaaaaaaa\\manhole_cover\\backend\\static\\1004.jpg\",\n",
    "    r\"D:\\aaaaaaaaaaaaaaaaaaaaaa\\manhole_cover\\backend\\static\\1005.jpg\",\n",
    "    r\"D:\\aaaaaaaaaaaaaaaaaaaaaa\\manhole_cover\\backend\\static\\1006.jpg\"\n",
    "]  # 共10个图像路径\n",
    "\n",
    "# 训练标签（修复了数量不匹配问题，确保与路径数量一致）\n",
    "train_labels = [0, 0, 3, 3, 3, 3, 3, 3, 3, 3]  # 共10个标签\n",
    "\n",
    "# 加载并过滤有效的图像\n",
    "images = []\n",
    "valid_labels = []\n",
    "for path, label in zip(train_image_paths, train_labels):\n",
    "    img = load_img(path)\n",
    "    if img is not None:\n",
    "        images.append(img)\n",
    "        valid_labels.append(label)\n",
    "\n",
    "# 如果没有有效的图像，退出程序\n",
    "if not images:\n",
    "    print(\"没有有效的训练图像，程序退出\")\n",
    "    exit()\n",
    "\n",
    "print(f\"成功加载 {len(images)} 张训练图像\")\n",
    "\n",
    "# 转换为张量并移到相应设备\n",
    "inputs = torch.stack(images).to(device)\n",
    "labels = torch.tensor(valid_labels).to(device)\n",
    "\n",
    "# 定义优化器和损失函数\n",
    "optimizer = torch.optim.Adam(model.fc.parameters(), lr=0.01)\n",
    "criterion = nn.CrossEntropyLoss()\n",
    "\n",
    "# 训练最后一层\n",
    "model.train()\n",
    "for epoch in range(20):  # 轮数可调\n",
    "    optimizer.zero_grad()  # 清零梯度\n",
    "    outputs = model(inputs)\n",
    "    loss = criterion(outputs, labels)\n",
    "    loss.backward()        # 反向传播\n",
    "    optimizer.step()       # 更新参数\n",
    "    \n",
    "    # 计算准确率\n",
    "    _, predicted = torch.max(outputs.data, 1)\n",
    "    accuracy = (predicted == labels).sum().item() / len(labels)\n",
    "    \n",
    "    print(f\"Epoch {epoch+1}, Loss: {loss.item():.4f}, Accuracy: {accuracy:.4f}\")\n",
    "\n",
    "# 创建保存模型的目录（如果不存在）\n",
    "os.makedirs(\"models\", exist_ok=True)\n",
    "# 保存模型\n",
    "torch.save(model.state_dict(), \"models/finetune_resnet18.pth\")\n",
    "print(\"模型已保存到 models/finetune_resnet18.pth\")\n",
    "    \n"
   ]
  },
  {
   "cell_type": "code",
   "execution_count": null,
   "id": "a3662522-38b2-4332-9ad4-52dcfb379705",
   "metadata": {},
   "outputs": [],
   "source": []
  }
 ],
 "metadata": {
  "kernelspec": {
   "display_name": "Python 3 (ipykernel)",
   "language": "python",
   "name": "python3"
  },
  "language_info": {
   "codemirror_mode": {
    "name": "ipython",
    "version": 3
   },
   "file_extension": ".py",
   "mimetype": "text/x-python",
   "name": "python",
   "nbconvert_exporter": "python",
   "pygments_lexer": "ipython3",
   "version": "3.8.20"
  }
 },
 "nbformat": 4,
 "nbformat_minor": 5
}
